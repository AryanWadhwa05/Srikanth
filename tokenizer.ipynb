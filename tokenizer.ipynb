{
 "cells": [
  {
   "cell_type": "code",
   "execution_count": 4,
   "metadata": {},
   "outputs": [
    {
     "data": {
      "text/plain": [
       "'04000003'"
      ]
     },
     "execution_count": 4,
     "metadata": {},
     "output_type": "execute_result"
    }
   ],
   "source": [
    "input1=\"6222040000030002\"\n",
    "\n",
    "list2=list(input1)[4:12]\n",
    "input2=''.join(list2)\n",
    "input2"
   ]
  },
  {
   "cell_type": "code",
   "execution_count": 5,
   "metadata": {},
   "outputs": [
    {
     "name": "stdout",
     "output_type": "stream",
     "text": [
      "f\n"
     ]
    }
   ],
   "source": [
    "import random\n",
    "import string\n",
    "\n",
    "lower_upper_alphabet = string.ascii_letters\n",
    "\n",
    "random_letter = random.choice(lower_upper_alphabet)\n",
    "\n",
    "\n",
    "\n",
    "print(random_letter)"
   ]
  },
  {
   "cell_type": "code",
   "execution_count": 6,
   "metadata": {},
   "outputs": [
    {
     "data": {
      "text/plain": [
       "['0', '4', '0', '0', '0', '0', '0', '3']"
      ]
     },
     "execution_count": 6,
     "metadata": {},
     "output_type": "execute_result"
    }
   ],
   "source": [
    "list(input2)"
   ]
  },
  {
   "cell_type": "code",
   "execution_count": 1,
   "metadata": {},
   "outputs": [
    {
     "name": "stdout",
     "output_type": "stream",
     "text": [
      "Enter your information here: 5468425452458796\n",
      "NKYXMQ4-C5n45r24Nr-hJhjA52q-kNF\n"
     ]
    }
   ],
   "source": [
    "import random\n",
    "import string\n",
    "import numpy as np\n",
    "\n",
    "input1 = input(\"Enter your information here: \")\n",
    "\n",
    "if len(input1)==16:\n",
    "    list2=list(input1)[4:12]\n",
    "    input2=''.join(list2)\n",
    "\n",
    "    l = []\n",
    "    for i in range(22):\n",
    "\n",
    "        lower_upper_alphabet = string.ascii_letters\n",
    "        random_letter = random.choice(lower_upper_alphabet)\n",
    "        l.append(random_letter)  \n",
    "\n",
    "    l.extend(list(input2)) \n",
    "\n",
    "\n",
    "    list2=np.random.permutation(l)\n",
    "\n",
    "\n",
    "    token=''.join(list2)\n",
    "    \n",
    "    \n",
    "\n",
    "    input2=''.join(list2[1:8])\n",
    "    input3=''.join(list2[8:13])\n",
    "    input4=\"-\".join([input2,input3])\n",
    "    input5=''.join(list2[13:18])\n",
    "    input6=''.join(list2[18:22])\n",
    "    input7=\"-\".join([input5,input6])\n",
    "    input8=''.join(list2[22:26])\n",
    "    input9=''.join(list2[26:-1])\n",
    "    input10=\"-\".join([input8,input9])\n",
    "    print(input4+input7+input10)\n",
    "    \n",
    "else:\n",
    "    print(\"Your information isn't quite right\")"
   ]
  },
  {
   "cell_type": "code",
   "execution_count": null,
   "metadata": {},
   "outputs": [],
   "source": [
    "42545245"
   ]
  },
  {
   "cell_type": "code",
   "execution_count": 7,
   "metadata": {},
   "outputs": [
    {
     "name": "stdout",
     "output_type": "stream",
     "text": [
      "Enter your information here: 1457658424584578\n",
      "['l', 'w', 'm', 'R', 'r', 'X', 'A', 'Y', 'S', 'Z', 'A', 'Q', 'K', 'x', 'l', 'F', 'l', 'K', 'w', 't', 'A', 'N']\n",
      "['6', '5', '8', '4', '2', '4', '5', '8']\n",
      "['l', 'w', 'm', 'R', 'r', 'X', 'A', 'Y', 'S', 'Z', 'A', 'Q', 'K', 'x', 'l', 'F', 'l', 'K', 'w', 't', 'A', 'N']\n",
      "lwmRr65\n",
      "lwmRr65-84XAYSZAQ-KxlF24-58lKwtAN\n"
     ]
    }
   ],
   "source": [
    "import random\n",
    "import string\n",
    "import numpy as np\n",
    "\n",
    "#input1 = input(\"Enter your information here: \")\n",
    "input1 = input(\"Enter your information here: \")\n",
    "if len(input1)==16:\n",
    "    list2=list(input1)[4:12]\n",
    "    input2=''.join(list2)\n",
    "\n",
    "    l = []\n",
    "    for i in range(22):\n",
    "        lower_upper_alphabet = string.ascii_letters\n",
    "        random_letter = random.choice(lower_upper_alphabet)\n",
    "        l.append(random_letter)  \n",
    "        \n",
    "    print(l)\n",
    "    print(list2)\n",
    "\n",
    "    str1=''.join([''.join(l[0:5]),''.join(list2[0:2])])\n",
    "    str2=''.join([''.join(list2[2:4]),''.join(l[5:12])])\n",
    "    str3=''.join([''.join(l[12:16]),''.join(list2[4:6])])\n",
    "    str4=''.join([''.join(list2[6:8]),''.join(l[16:222])])\n",
    "    print(l)\n",
    "    print(str1)\n",
    "    token=str1+'-'+str2+'-'+str3+'-'+str4\n",
    "    print(token)\n",
    "    \n",
    "else:\n",
    "    print(\"Your information isn't quite right\")"
   ]
  },
  {
   "cell_type": "code",
   "execution_count": 1,
   "metadata": {},
   "outputs": [
    {
     "name": "stdout",
     "output_type": "stream",
     "text": [
      "Enter your information here: 4517451451452635\n"
     ]
    },
    {
     "ename": "TypeError",
     "evalue": "object of type 'int' has no len()",
     "output_type": "error",
     "traceback": [
      "\u001b[1;31m---------------------------------------------------------------------------\u001b[0m",
      "\u001b[1;31mTypeError\u001b[0m                                 Traceback (most recent call last)",
      "\u001b[1;32m<ipython-input-1-5a07dd41d70e>\u001b[0m in \u001b[0;36m<module>\u001b[1;34m\u001b[0m\n\u001b[0;32m      5\u001b[0m \u001b[1;31m#input1 = input(\"Enter your information here: \")\u001b[0m\u001b[1;33m\u001b[0m\u001b[1;33m\u001b[0m\u001b[1;33m\u001b[0m\u001b[0m\n\u001b[0;32m      6\u001b[0m \u001b[0minput1\u001b[0m \u001b[1;33m=\u001b[0m \u001b[0mint\u001b[0m\u001b[1;33m(\u001b[0m\u001b[0minput\u001b[0m\u001b[1;33m(\u001b[0m\u001b[1;34m\"Enter your information here: \"\u001b[0m\u001b[1;33m)\u001b[0m\u001b[1;33m)\u001b[0m\u001b[1;33m\u001b[0m\u001b[1;33m\u001b[0m\u001b[0m\n\u001b[1;32m----> 7\u001b[1;33m \u001b[1;32mif\u001b[0m \u001b[0mlen\u001b[0m\u001b[1;33m(\u001b[0m\u001b[0minput1\u001b[0m\u001b[1;33m)\u001b[0m\u001b[1;33m==\u001b[0m\u001b[1;36m16\u001b[0m\u001b[1;33m:\u001b[0m\u001b[1;33m\u001b[0m\u001b[1;33m\u001b[0m\u001b[0m\n\u001b[0m\u001b[0;32m      8\u001b[0m     \u001b[0mlist2\u001b[0m\u001b[1;33m=\u001b[0m\u001b[0mlist\u001b[0m\u001b[1;33m(\u001b[0m\u001b[0minput1\u001b[0m\u001b[1;33m)\u001b[0m\u001b[1;33m[\u001b[0m\u001b[1;36m4\u001b[0m\u001b[1;33m:\u001b[0m\u001b[1;36m12\u001b[0m\u001b[1;33m]\u001b[0m\u001b[1;33m\u001b[0m\u001b[1;33m\u001b[0m\u001b[0m\n\u001b[0;32m      9\u001b[0m     \u001b[0minput2\u001b[0m\u001b[1;33m=\u001b[0m\u001b[1;34m''\u001b[0m\u001b[1;33m.\u001b[0m\u001b[0mjoin\u001b[0m\u001b[1;33m(\u001b[0m\u001b[0mlist2\u001b[0m\u001b[1;33m)\u001b[0m\u001b[1;33m\u001b[0m\u001b[1;33m\u001b[0m\u001b[0m\n",
      "\u001b[1;31mTypeError\u001b[0m: object of type 'int' has no len()"
     ]
    }
   ],
   "source": [
    "import random\n",
    "import string\n",
    "import numpy as np\n",
    "\n",
    "#input1 = input(\"Enter your information here: \")\n",
    "input1 = int(input(\"Enter your information here: \"))\n",
    "if len(input1)==16:\n",
    "    list2=list(input1)[4:12]\n",
    "    input2=''.join(list2)\n",
    "\n",
    "    l = []\n",
    "    for i in range(22):\n",
    "        lower_upper_alphabet = string.ascii_letters\n",
    "        random_letter = random.choice(lower_upper_alphabet)\n",
    "        l.append(random_letter)  \n",
    "        \n",
    "    print(l)\n",
    "    print(list2)\n",
    "\n",
    "    str1=''.join([''.join(l[0:5]),''.join(list2[0:2])])\n",
    "    str2=''.join([''.join(list2[2:4]),''.join(l[5:12])])\n",
    "    str3=''.join([''.join(l[12:16]),''.join(list2[4:6])])\n",
    "    str4=''.join([''.join(list2[6:8]),''.join(l[16:222])])\n",
    "    print(l)\n",
    "    print(str1)\n",
    "    token=str1+'-'+str2+'-'+str3+'-'+str4\n",
    "    print(token)\n",
    "    \n",
    "else:\n",
    "    print(\"Your information isn't quite right\")"
   ]
  },
  {
   "cell_type": "code",
   "execution_count": 2,
   "metadata": {},
   "outputs": [
    {
     "name": "stdout",
     "output_type": "stream",
     "text": [
      "Enter your information here: 1234567891234567\n",
      "['Y', 'o', 'A', 'N', 'Q', 'H', 's', 'w', 'D', 'o', 'j', 'L', 'L', 'k', 'M', 'P', 'C', 'P', 'Y', 'Z', 'Q', 'i']\n",
      "['5', '6', '7', '8', '9', '1', '2', '3']\n",
      "['Y', 'o', 'A', 'N', 'Q', 'H', 's', 'w', 'D', 'o', 'j', 'L', 'L', 'k', 'M', 'P', 'C', 'P', 'Y', 'Z', 'Q', 'i']\n",
      "YoANQ56\n",
      "YoANQ56-78HswDojL-LkMP91-23CPYZQi\n"
     ]
    }
   ],
   "source": [
    "import random\n",
    "import string\n",
    "import numpy as np\n",
    "\n",
    "#input1 = input(\"Enter your information here: \")\n",
    "input1 = input(\"Enter your information here: \")\n",
    "if len(input1)==16:\n",
    "    list2=list(input1)[4:12]\n",
    "    input2=''.join(list2)\n",
    "\n",
    "    l = []\n",
    "    for i in range(22):\n",
    "        lower_upper_alphabet = string.ascii_letters\n",
    "        random_letter = random.choice(lower_upper_alphabet)\n",
    "        l.append(random_letter)  \n",
    "        \n",
    "    print(l)\n",
    "    print(list2)\n",
    "\n",
    "    str1=''.join([''.join(l[0:5]),''.join(list2[0:2])])\n",
    "    str2=''.join([''.join(list2[2:4]),''.join(l[5:12])])\n",
    "    str3=''.join([''.join(l[12:16]),''.join(list2[4:6])])\n",
    "    str4=''.join([''.join(list2[6:8]),''.join(l[16:222])])\n",
    "    print(l)\n",
    "    print(str1)\n",
    "    token=str1+'-'+str2+'-'+str3+'-'+str4\n",
    "    print(token)\n",
    "    \n",
    "else:\n",
    "    print(\"Your information isn't quite right\")\n"
   ]
  },
  {
   "cell_type": "code",
   "execution_count": null,
   "metadata": {},
   "outputs": [],
   "source": []
  }
 ],
 "metadata": {
  "kernelspec": {
   "display_name": "Python 3",
   "language": "python",
   "name": "python3"
  },
  "language_info": {
   "codemirror_mode": {
    "name": "ipython",
    "version": 3
   },
   "file_extension": ".py",
   "mimetype": "text/x-python",
   "name": "python",
   "nbconvert_exporter": "python",
   "pygments_lexer": "ipython3",
   "version": "3.8.5"
  }
 },
 "nbformat": 4,
 "nbformat_minor": 4
}
